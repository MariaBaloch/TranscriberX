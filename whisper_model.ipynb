{
  "cells": [
    {
      "cell_type": "markdown",
      "source": [
        "Whisper Model: This model is going to split a video into smaller chunks onto specified location. Below are the steps to perform before running the file:\n",
        "\n",
        "1.   Download testVideo2.mp4 file into your Google Colab notebook\n",
        "2.   Create a temporary folder to save the splitted audio\n",
        "\n"
      ],
      "metadata": {
        "id": "RvnlGpCuPBsq"
      }
    },
    {
      "cell_type": "markdown",
      "source": [
        "Installing dependencies"
      ],
      "metadata": {
        "id": "7wMBRcMpQBS6"
      }
    },
    {
      "cell_type": "code",
      "source": [
        "pip install git+https://github.com/openai/whisper.git "
      ],
      "metadata": {
        "colab": {
          "base_uri": "https://localhost:8080/"
        },
        "id": "WkrwXLNRuMtM",
        "outputId": "467f293d-9527-4b90-e309-5b8657ef40f5"
      },
      "execution_count": 1,
      "outputs": [
        {
          "output_type": "stream",
          "name": "stdout",
          "text": [
            "Looking in indexes: https://pypi.org/simple, https://us-python.pkg.dev/colab-wheels/public/simple/\n",
            "Collecting git+https://github.com/openai/whisper.git\n",
            "  Cloning https://github.com/openai/whisper.git to /tmp/pip-req-build-ytt5pjb4\n",
            "  Running command git clone --filter=blob:none --quiet https://github.com/openai/whisper.git /tmp/pip-req-build-ytt5pjb4\n",
            "  Resolved https://github.com/openai/whisper.git to commit 924e1f8e06c02b6c0036ff742c09f1b6c509521c\n",
            "  Installing build dependencies ... \u001b[?25l\u001b[?25hdone\n",
            "  Getting requirements to build wheel ... \u001b[?25l\u001b[?25hdone\n",
            "  Preparing metadata (pyproject.toml) ... \u001b[?25l\u001b[?25hdone\n",
            "Collecting triton==2.0.0\n",
            "  Downloading triton-2.0.0-cp38-cp38-manylinux_2_17_x86_64.manylinux2014_x86_64.whl (63.2 MB)\n",
            "\u001b[2K     \u001b[90m━━━━━━━━━━━━━━━━━━━━━━━━━━━━━━━━━━━━━━━━\u001b[0m \u001b[32m63.2/63.2 MB\u001b[0m \u001b[31m12.3 MB/s\u001b[0m eta \u001b[36m0:00:00\u001b[0m\n",
            "\u001b[?25hRequirement already satisfied: torch in /usr/local/lib/python3.8/dist-packages (from openai-whisper==20230306) (1.13.1+cu116)\n",
            "Requirement already satisfied: more-itertools in /usr/local/lib/python3.8/dist-packages (from openai-whisper==20230306) (9.1.0)\n",
            "Collecting ffmpeg-python==0.2.0\n",
            "  Downloading ffmpeg_python-0.2.0-py3-none-any.whl (25 kB)\n",
            "Requirement already satisfied: tqdm in /usr/local/lib/python3.8/dist-packages (from openai-whisper==20230306) (4.64.1)\n",
            "Requirement already satisfied: numpy in /usr/local/lib/python3.8/dist-packages (from openai-whisper==20230306) (1.22.4)\n",
            "Requirement already satisfied: numba in /usr/local/lib/python3.8/dist-packages (from openai-whisper==20230306) (0.56.4)\n",
            "Collecting transformers>=4.19.0\n",
            "  Downloading transformers-4.26.1-py3-none-any.whl (6.3 MB)\n",
            "\u001b[2K     \u001b[90m━━━━━━━━━━━━━━━━━━━━━━━━━━━━━━━━━━━━━━━━\u001b[0m \u001b[32m6.3/6.3 MB\u001b[0m \u001b[31m94.8 MB/s\u001b[0m eta \u001b[36m0:00:00\u001b[0m\n",
            "\u001b[?25hRequirement already satisfied: future in /usr/local/lib/python3.8/dist-packages (from ffmpeg-python==0.2.0->openai-whisper==20230306) (0.16.0)\n",
            "Requirement already satisfied: filelock in /usr/local/lib/python3.8/dist-packages (from triton==2.0.0->openai-whisper==20230306) (3.9.0)\n",
            "Collecting lit\n",
            "  Downloading lit-15.0.7.tar.gz (132 kB)\n",
            "\u001b[2K     \u001b[90m━━━━━━━━━━━━━━━━━━━━━━━━━━━━━━━━━━━━━━━\u001b[0m \u001b[32m132.3/132.3 KB\u001b[0m \u001b[31m8.9 MB/s\u001b[0m eta \u001b[36m0:00:00\u001b[0m\n",
            "\u001b[?25h  Preparing metadata (setup.py) ... \u001b[?25l\u001b[?25hdone\n",
            "Requirement already satisfied: cmake in /usr/local/lib/python3.8/dist-packages (from triton==2.0.0->openai-whisper==20230306) (3.22.6)\n",
            "Requirement already satisfied: requests in /usr/local/lib/python3.8/dist-packages (from transformers>=4.19.0->openai-whisper==20230306) (2.25.1)\n",
            "Requirement already satisfied: regex!=2019.12.17 in /usr/local/lib/python3.8/dist-packages (from transformers>=4.19.0->openai-whisper==20230306) (2022.6.2)\n",
            "Requirement already satisfied: packaging>=20.0 in /usr/local/lib/python3.8/dist-packages (from transformers>=4.19.0->openai-whisper==20230306) (23.0)\n",
            "Requirement already satisfied: pyyaml>=5.1 in /usr/local/lib/python3.8/dist-packages (from transformers>=4.19.0->openai-whisper==20230306) (6.0)\n",
            "Collecting huggingface-hub<1.0,>=0.11.0\n",
            "  Downloading huggingface_hub-0.12.1-py3-none-any.whl (190 kB)\n",
            "\u001b[2K     \u001b[90m━━━━━━━━━━━━━━━━━━━━━━━━━━━━━━━━━━━━━━\u001b[0m \u001b[32m190.3/190.3 KB\u001b[0m \u001b[31m21.6 MB/s\u001b[0m eta \u001b[36m0:00:00\u001b[0m\n",
            "\u001b[?25hCollecting tokenizers!=0.11.3,<0.14,>=0.11.1\n",
            "  Downloading tokenizers-0.13.2-cp38-cp38-manylinux_2_17_x86_64.manylinux2014_x86_64.whl (7.6 MB)\n",
            "\u001b[2K     \u001b[90m━━━━━━━━━━━━━━━━━━━━━━━━━━━━━━━━━━━━━━━━\u001b[0m \u001b[32m7.6/7.6 MB\u001b[0m \u001b[31m112.5 MB/s\u001b[0m eta \u001b[36m0:00:00\u001b[0m\n",
            "\u001b[?25hRequirement already satisfied: setuptools in /usr/local/lib/python3.8/dist-packages (from numba->openai-whisper==20230306) (57.4.0)\n",
            "Requirement already satisfied: llvmlite<0.40,>=0.39.0dev0 in /usr/local/lib/python3.8/dist-packages (from numba->openai-whisper==20230306) (0.39.1)\n",
            "Requirement already satisfied: importlib-metadata in /usr/local/lib/python3.8/dist-packages (from numba->openai-whisper==20230306) (6.0.0)\n",
            "Requirement already satisfied: typing-extensions in /usr/local/lib/python3.8/dist-packages (from torch->openai-whisper==20230306) (4.5.0)\n",
            "Requirement already satisfied: zipp>=0.5 in /usr/local/lib/python3.8/dist-packages (from importlib-metadata->numba->openai-whisper==20230306) (3.15.0)\n",
            "Requirement already satisfied: urllib3<1.27,>=1.21.1 in /usr/local/lib/python3.8/dist-packages (from requests->transformers>=4.19.0->openai-whisper==20230306) (1.26.14)\n",
            "Requirement already satisfied: chardet<5,>=3.0.2 in /usr/local/lib/python3.8/dist-packages (from requests->transformers>=4.19.0->openai-whisper==20230306) (4.0.0)\n",
            "Requirement already satisfied: certifi>=2017.4.17 in /usr/local/lib/python3.8/dist-packages (from requests->transformers>=4.19.0->openai-whisper==20230306) (2022.12.7)\n",
            "Requirement already satisfied: idna<3,>=2.5 in /usr/local/lib/python3.8/dist-packages (from requests->transformers>=4.19.0->openai-whisper==20230306) (2.10)\n",
            "Building wheels for collected packages: openai-whisper, lit\n",
            "  Building wheel for openai-whisper (pyproject.toml) ... \u001b[?25l\u001b[?25hdone\n",
            "  Created wheel for openai-whisper: filename=openai_whisper-20230306-py3-none-any.whl size=1187302 sha256=b0f66715464d5d6d74588d52a6214069cd8e8ed6323848950f849b43fa37ddf6\n",
            "  Stored in directory: /tmp/pip-ephem-wheel-cache-jcvw9fqv/wheels/a7/70/18/b7693c07b1d18b3dafb328f5d0496aa0d41a9c09ef332fd8e6\n",
            "  Building wheel for lit (setup.py) ... \u001b[?25l\u001b[?25hdone\n",
            "  Created wheel for lit: filename=lit-15.0.7-py3-none-any.whl size=90004 sha256=2dc60adf3d171d4e6fddfd9e25885559a57ee34b6a2e01fdec43979854456028\n",
            "  Stored in directory: /root/.cache/pip/wheels/0e/47/23/ef2e2c441fcfda594f1a69c7f977bd94cff3bc39601af6a918\n",
            "Successfully built openai-whisper lit\n",
            "Installing collected packages: tokenizers, lit, ffmpeg-python, triton, huggingface-hub, transformers, openai-whisper\n",
            "Successfully installed ffmpeg-python-0.2.0 huggingface-hub-0.12.1 lit-15.0.7 openai-whisper-20230306 tokenizers-0.13.2 transformers-4.26.1 triton-2.0.0\n"
          ]
        }
      ]
    },
    {
      "cell_type": "code",
      "source": [
        "!sudo pip3 install imageio==2.4.1"
      ],
      "metadata": {
        "colab": {
          "base_uri": "https://localhost:8080/"
        },
        "id": "gPmn4cygEmnM",
        "outputId": "d3690330-5eeb-456c-ad8e-ba9d94f28f25"
      },
      "execution_count": 2,
      "outputs": [
        {
          "output_type": "stream",
          "name": "stdout",
          "text": [
            "Looking in indexes: https://pypi.org/simple, https://us-python.pkg.dev/colab-wheels/public/simple/\n",
            "Collecting imageio==2.4.1\n",
            "  Downloading imageio-2.4.1.tar.gz (3.3 MB)\n",
            "\u001b[2K     \u001b[90m━━━━━━━━━━━━━━━━━━━━━━━━━━━━━━━━━━━━━━━━\u001b[0m \u001b[32m3.3/3.3 MB\u001b[0m \u001b[31m69.0 MB/s\u001b[0m eta \u001b[36m0:00:00\u001b[0m\n",
            "\u001b[?25h  Preparing metadata (setup.py) ... \u001b[?25l\u001b[?25hdone\n",
            "Requirement already satisfied: numpy in /usr/local/lib/python3.8/dist-packages (from imageio==2.4.1) (1.22.4)\n",
            "Requirement already satisfied: pillow in /usr/local/lib/python3.8/dist-packages (from imageio==2.4.1) (8.4.0)\n",
            "Building wheels for collected packages: imageio\n",
            "  Building wheel for imageio (setup.py) ... \u001b[?25l\u001b[?25hdone\n",
            "  Created wheel for imageio: filename=imageio-2.4.1-py3-none-any.whl size=3303886 sha256=a8b70a006fda14c052a0fa4f599e148df9387a1c90958077ca8c97da257050bd\n",
            "  Stored in directory: /root/.cache/pip/wheels/be/7b/04/4d8d56f1d503e5c404f0de6018c0cfa592c71588a39b49e002\n",
            "Successfully built imageio\n",
            "Installing collected packages: imageio\n",
            "  Attempting uninstall: imageio\n",
            "    Found existing installation: imageio 2.9.0\n",
            "    Uninstalling imageio-2.9.0:\n",
            "      Successfully uninstalled imageio-2.9.0\n",
            "Successfully installed imageio-2.4.1\n"
          ]
        }
      ]
    },
    {
      "cell_type": "code",
      "source": [
        "!pip install --upgrade moviepy\n",
        "!pip install --upgrade imageio-ffmpeg"
      ],
      "metadata": {
        "colab": {
          "base_uri": "https://localhost:8080/"
        },
        "id": "iR_zlusGG2kU",
        "outputId": "8969c33b-b3e9-46f3-f2fa-373fe8e16da1"
      },
      "execution_count": 3,
      "outputs": [
        {
          "output_type": "stream",
          "name": "stdout",
          "text": [
            "Looking in indexes: https://pypi.org/simple, https://us-python.pkg.dev/colab-wheels/public/simple/\n",
            "Requirement already satisfied: moviepy in /usr/local/lib/python3.8/dist-packages (0.2.3.5)\n",
            "Collecting moviepy\n",
            "  Downloading moviepy-1.0.3.tar.gz (388 kB)\n",
            "\u001b[2K     \u001b[90m━━━━━━━━━━━━━━━━━━━━━━━━━━━━━━━━━━━━━━\u001b[0m \u001b[32m388.3/388.3 KB\u001b[0m \u001b[31m21.7 MB/s\u001b[0m eta \u001b[36m0:00:00\u001b[0m\n",
            "\u001b[?25h  Preparing metadata (setup.py) ... \u001b[?25l\u001b[?25hdone\n",
            "Requirement already satisfied: decorator<5.0,>=4.0.2 in /usr/local/lib/python3.8/dist-packages (from moviepy) (4.4.2)\n",
            "Requirement already satisfied: tqdm<5.0,>=4.11.2 in /usr/local/lib/python3.8/dist-packages (from moviepy) (4.64.1)\n",
            "Requirement already satisfied: requests<3.0,>=2.8.1 in /usr/local/lib/python3.8/dist-packages (from moviepy) (2.25.1)\n",
            "Collecting proglog<=1.0.0\n",
            "  Downloading proglog-0.1.10-py3-none-any.whl (6.1 kB)\n",
            "Requirement already satisfied: numpy>=1.17.3 in /usr/local/lib/python3.8/dist-packages (from moviepy) (1.22.4)\n",
            "Collecting imageio<3.0,>=2.5\n",
            "  Downloading imageio-2.26.0-py3-none-any.whl (3.4 MB)\n",
            "\u001b[2K     \u001b[90m━━━━━━━━━━━━━━━━━━━━━━━━━━━━━━━━━━━━━━━━\u001b[0m \u001b[32m3.4/3.4 MB\u001b[0m \u001b[31m46.7 MB/s\u001b[0m eta \u001b[36m0:00:00\u001b[0m\n",
            "\u001b[?25hCollecting imageio_ffmpeg>=0.2.0\n",
            "  Downloading imageio_ffmpeg-0.4.8-py3-none-manylinux2010_x86_64.whl (26.9 MB)\n",
            "\u001b[2K     \u001b[90m━━━━━━━━━━━━━━━━━━━━━━━━━━━━━━━━━━━━━━━━\u001b[0m \u001b[32m26.9/26.9 MB\u001b[0m \u001b[31m36.8 MB/s\u001b[0m eta \u001b[36m0:00:00\u001b[0m\n",
            "\u001b[?25hRequirement already satisfied: pillow>=8.3.2 in /usr/local/lib/python3.8/dist-packages (from imageio<3.0,>=2.5->moviepy) (8.4.0)\n",
            "Requirement already satisfied: idna<3,>=2.5 in /usr/local/lib/python3.8/dist-packages (from requests<3.0,>=2.8.1->moviepy) (2.10)\n",
            "Requirement already satisfied: certifi>=2017.4.17 in /usr/local/lib/python3.8/dist-packages (from requests<3.0,>=2.8.1->moviepy) (2022.12.7)\n",
            "Requirement already satisfied: chardet<5,>=3.0.2 in /usr/local/lib/python3.8/dist-packages (from requests<3.0,>=2.8.1->moviepy) (4.0.0)\n",
            "Requirement already satisfied: urllib3<1.27,>=1.21.1 in /usr/local/lib/python3.8/dist-packages (from requests<3.0,>=2.8.1->moviepy) (1.26.14)\n",
            "Building wheels for collected packages: moviepy\n",
            "  Building wheel for moviepy (setup.py) ... \u001b[?25l\u001b[?25hdone\n",
            "  Created wheel for moviepy: filename=moviepy-1.0.3-py3-none-any.whl size=110742 sha256=cf02fa6b8883eee58248eb29d8adfb8d9ce5f250e559590566f9c21aa28923f2\n",
            "  Stored in directory: /root/.cache/pip/wheels/e4/a4/db/0368d3a04033da662e13926594b3a8cf1aa4ffeefe570cfac1\n",
            "Successfully built moviepy\n",
            "Installing collected packages: proglog, imageio_ffmpeg, imageio, moviepy\n",
            "  Attempting uninstall: imageio\n",
            "    Found existing installation: imageio 2.4.1\n",
            "    Uninstalling imageio-2.4.1:\n",
            "      Successfully uninstalled imageio-2.4.1\n",
            "  Attempting uninstall: moviepy\n",
            "    Found existing installation: moviepy 0.2.3.5\n",
            "    Uninstalling moviepy-0.2.3.5:\n",
            "      Successfully uninstalled moviepy-0.2.3.5\n",
            "Successfully installed imageio-2.26.0 imageio_ffmpeg-0.4.8 moviepy-1.0.3 proglog-0.1.10\n",
            "Looking in indexes: https://pypi.org/simple, https://us-python.pkg.dev/colab-wheels/public/simple/\n",
            "Requirement already satisfied: imageio-ffmpeg in /usr/local/lib/python3.8/dist-packages (0.4.8)\n"
          ]
        }
      ]
    },
    {
      "cell_type": "markdown",
      "source": [
        "Importing Libraries"
      ],
      "metadata": {
        "id": "ZAcwTSaHQLBI"
      }
    },
    {
      "cell_type": "code",
      "source": [
        "import whisper\n",
        "from moviepy.video.VideoClip import ImageClip\n",
        "from moviepy import *\n",
        "import os"
      ],
      "metadata": {
        "id": "VaEPR1HSuuVy"
      },
      "execution_count": 4,
      "outputs": []
    },
    {
      "cell_type": "code",
      "source": [
        "!sudo apt-get install -y gpac"
      ],
      "metadata": {
        "colab": {
          "base_uri": "https://localhost:8080/"
        },
        "id": "4Kuyk3eeyGen",
        "outputId": "9bf657f9-a44f-461a-849a-c18eeb314e62"
      },
      "execution_count": 5,
      "outputs": [
        {
          "output_type": "stream",
          "name": "stdout",
          "text": [
            "Reading package lists... Done\n",
            "Building dependency tree       \n",
            "Reading state information... Done\n",
            "The following additional packages will be installed:\n",
            "  gpac-modules-base liba52-0.7.4 libfaad2 libfreenect0.5 libgpac4 libmad0\n",
            "  libsdl1.2debian\n",
            "The following NEW packages will be installed:\n",
            "  gpac gpac-modules-base liba52-0.7.4 libfaad2 libfreenect0.5 libgpac4 libmad0\n",
            "  libsdl1.2debian\n",
            "0 upgraded, 8 newly installed, 0 to remove and 22 not upgraded.\n",
            "Need to get 2,456 kB of archives.\n",
            "After this operation, 7,612 kB of additional disk space will be used.\n",
            "Get:1 http://archive.ubuntu.com/ubuntu focal/universe amd64 libgpac4 amd64 0.5.2-426-gc5ad4e4+dfsg5-5 [1,535 kB]\n",
            "Get:2 http://archive.ubuntu.com/ubuntu focal/universe amd64 liba52-0.7.4 amd64 0.7.4-20 [30.5 kB]\n",
            "Get:3 http://archive.ubuntu.com/ubuntu focal/universe amd64 libfaad2 amd64 2.9.1-1 [154 kB]\n",
            "Get:4 http://archive.ubuntu.com/ubuntu focal/universe amd64 libfreenect0.5 amd64 1:0.5.3-2 [40.5 kB]\n",
            "Get:5 http://archive.ubuntu.com/ubuntu focal/universe amd64 libmad0 amd64 0.15.1b-10ubuntu1 [63.1 kB]\n",
            "Get:6 http://archive.ubuntu.com/ubuntu focal/universe amd64 libsdl1.2debian amd64 1.2.15+dfsg2-5 [175 kB]\n",
            "Get:7 http://archive.ubuntu.com/ubuntu focal/universe amd64 gpac-modules-base amd64 0.5.2-426-gc5ad4e4+dfsg5-5 [207 kB]\n",
            "Get:8 http://archive.ubuntu.com/ubuntu focal/universe amd64 gpac amd64 0.5.2-426-gc5ad4e4+dfsg5-5 [250 kB]\n",
            "Fetched 2,456 kB in 2s (1,164 kB/s)\n",
            "debconf: unable to initialize frontend: Dialog\n",
            "debconf: (No usable dialog-like program is installed, so the dialog based frontend cannot be used. at /usr/share/perl5/Debconf/FrontEnd/Dialog.pm line 76, <> line 8.)\n",
            "debconf: falling back to frontend: Readline\n",
            "debconf: unable to initialize frontend: Readline\n",
            "debconf: (This frontend requires a controlling tty.)\n",
            "debconf: falling back to frontend: Teletype\n",
            "dpkg-preconfigure: unable to re-open stdin: \n",
            "Selecting previously unselected package libgpac4:amd64.\n",
            "(Reading database ... 128216 files and directories currently installed.)\n",
            "Preparing to unpack .../0-libgpac4_0.5.2-426-gc5ad4e4+dfsg5-5_amd64.deb ...\n",
            "Unpacking libgpac4:amd64 (0.5.2-426-gc5ad4e4+dfsg5-5) ...\n",
            "Selecting previously unselected package liba52-0.7.4:amd64.\n",
            "Preparing to unpack .../1-liba52-0.7.4_0.7.4-20_amd64.deb ...\n",
            "Unpacking liba52-0.7.4:amd64 (0.7.4-20) ...\n",
            "Selecting previously unselected package libfaad2:amd64.\n",
            "Preparing to unpack .../2-libfaad2_2.9.1-1_amd64.deb ...\n",
            "Unpacking libfaad2:amd64 (2.9.1-1) ...\n",
            "Selecting previously unselected package libfreenect0.5:amd64.\n",
            "Preparing to unpack .../3-libfreenect0.5_1%3a0.5.3-2_amd64.deb ...\n",
            "Unpacking libfreenect0.5:amd64 (1:0.5.3-2) ...\n",
            "Selecting previously unselected package libmad0:amd64.\n",
            "Preparing to unpack .../4-libmad0_0.15.1b-10ubuntu1_amd64.deb ...\n",
            "Unpacking libmad0:amd64 (0.15.1b-10ubuntu1) ...\n",
            "Selecting previously unselected package libsdl1.2debian:amd64.\n",
            "Preparing to unpack .../5-libsdl1.2debian_1.2.15+dfsg2-5_amd64.deb ...\n",
            "Unpacking libsdl1.2debian:amd64 (1.2.15+dfsg2-5) ...\n",
            "Selecting previously unselected package gpac-modules-base:amd64.\n",
            "Preparing to unpack .../6-gpac-modules-base_0.5.2-426-gc5ad4e4+dfsg5-5_amd64.deb ...\n",
            "Unpacking gpac-modules-base:amd64 (0.5.2-426-gc5ad4e4+dfsg5-5) ...\n",
            "Selecting previously unselected package gpac.\n",
            "Preparing to unpack .../7-gpac_0.5.2-426-gc5ad4e4+dfsg5-5_amd64.deb ...\n",
            "Unpacking gpac (0.5.2-426-gc5ad4e4+dfsg5-5) ...\n",
            "Setting up libfreenect0.5:amd64 (1:0.5.3-2) ...\n",
            "Setting up liba52-0.7.4:amd64 (0.7.4-20) ...\n",
            "Setting up libfaad2:amd64 (2.9.1-1) ...\n",
            "Setting up libsdl1.2debian:amd64 (1.2.15+dfsg2-5) ...\n",
            "Setting up libmad0:amd64 (0.15.1b-10ubuntu1) ...\n",
            "Setting up libgpac4:amd64 (0.5.2-426-gc5ad4e4+dfsg5-5) ...\n",
            "Setting up gpac-modules-base:amd64 (0.5.2-426-gc5ad4e4+dfsg5-5) ...\n",
            "Setting up gpac (0.5.2-426-gc5ad4e4+dfsg5-5) ...\n",
            "Processing triggers for man-db (2.9.1-1) ...\n",
            "Processing triggers for libc-bin (2.31-0ubuntu9.9) ...\n"
          ]
        }
      ]
    },
    {
      "cell_type": "markdown",
      "source": [
        "Converting testVideo2.mp4 into transcribable audio"
      ],
      "metadata": {
        "id": "kvxwg4gwQO3-"
      }
    },
    {
      "cell_type": "code",
      "source": [
        "!MP4Box -add /content/testVideo2.mp4 /content/video.mp3"
      ],
      "metadata": {
        "colab": {
          "base_uri": "https://localhost:8080/"
        },
        "id": "0pDbdAkEyChr",
        "outputId": "133c87aa-bcb8-4059-8d19-1ca0cefe930e"
      },
      "execution_count": 6,
      "outputs": [
        {
          "output_type": "stream",
          "name": "stdout",
          "text": [
            "IsoMedia import testVideo2.mp4 - track ID 1 - Audio (SR 44100 - 2 channels)\n",
            "Importing ISO File: |                    | (01/100)\rImporting ISO File: |                    | (02/100)\rImporting ISO File: |                    | (03/100)\rImporting ISO File: |                    | (04/100)\rImporting ISO File: |=                   | (05/100)\rImporting ISO File: |=                   | (06/100)\rImporting ISO File: |=                   | (07/100)\rImporting ISO File: |=                   | (08/100)\rImporting ISO File: |=                   | (09/100)\rImporting ISO File: |==                  | (10/100)\rImporting ISO File: |==                  | (11/100)\rImporting ISO File: |==                  | (12/100)\rImporting ISO File: |==                  | (13/100)\rImporting ISO File: |==                  | (14/100)\rImporting ISO File: |===                 | (15/100)\rImporting ISO File: |===                 | (16/100)\rImporting ISO File: |===                 | (17/100)\rImporting ISO File: |===                 | (18/100)\rImporting ISO File: |===                 | (19/100)\rImporting ISO File: |====                | (20/100)\rImporting ISO File: |====                | (21/100)\rImporting ISO File: |====                | (22/100)\rImporting ISO File: |====                | (23/100)\rImporting ISO File: |====                | (24/100)\rImporting ISO File: |=====               | (25/100)\rImporting ISO File: |=====               | (26/100)\rImporting ISO File: |=====               | (27/100)\rImporting ISO File: |=====               | (28/100)\rImporting ISO File: |=====               | (29/100)\rImporting ISO File: |======              | (30/100)\rImporting ISO File: |======              | (31/100)\rImporting ISO File: |======              | (32/100)\rImporting ISO File: |======              | (33/100)\rImporting ISO File: |======              | (34/100)\rImporting ISO File: |=======             | (35/100)\rImporting ISO File: |=======             | (36/100)\rImporting ISO File: |=======             | (37/100)\rImporting ISO File: |=======             | (38/100)\rImporting ISO File: |=======             | (39/100)\rImporting ISO File: |========            | (40/100)\rImporting ISO File: |========            | (41/100)\rImporting ISO File: |========            | (42/100)\rImporting ISO File: |========            | (43/100)\rImporting ISO File: |========            | (44/100)\rImporting ISO File: |=========           | (45/100)\rImporting ISO File: |=========           | (46/100)\rImporting ISO File: |=========           | (47/100)\rImporting ISO File: |=========           | (48/100)\rImporting ISO File: |=========           | (49/100)\rImporting ISO File: |==========          | (50/100)\rImporting ISO File: |==========          | (51/100)\rImporting ISO File: |==========          | (52/100)\rImporting ISO File: |==========          | (53/100)\rImporting ISO File: |==========          | (54/100)\rImporting ISO File: |===========         | (55/100)\rImporting ISO File: |===========         | (56/100)\rImporting ISO File: |===========         | (57/100)\rImporting ISO File: |===========         | (58/100)\rImporting ISO File: |===========         | (59/100)\rImporting ISO File: |============        | (60/100)\rImporting ISO File: |============        | (61/100)\rImporting ISO File: |============        | (62/100)\rImporting ISO File: |============        | (63/100)\rImporting ISO File: |============        | (64/100)\rImporting ISO File: |=============       | (65/100)\rImporting ISO File: |=============       | (66/100)\rImporting ISO File: |=============       | (67/100)\rImporting ISO File: |=============       | (68/100)\rImporting ISO File: |=============       | (69/100)\rImporting ISO File: |==============      | (70/100)\rImporting ISO File: |==============      | (71/100)\rImporting ISO File: |==============      | (72/100)\rImporting ISO File: |==============      | (73/100)\rImporting ISO File: |==============      | (74/100)\rImporting ISO File: |===============     | (75/100)\rImporting ISO File: |===============     | (76/100)\rImporting ISO File: |===============     | (77/100)\rImporting ISO File: |===============     | (78/100)\rImporting ISO File: |===============     | (79/100)\rImporting ISO File: |================    | (80/100)\rImporting ISO File: |================    | (81/100)\rImporting ISO File: |================    | (82/100)\rImporting ISO File: |================    | (83/100)\rImporting ISO File: |================    | (84/100)\rImporting ISO File: |=================   | (85/100)\rImporting ISO File: |=================   | (86/100)\rImporting ISO File: |=================   | (87/100)\rImporting ISO File: |=================   | (88/100)\rImporting ISO File: |=================   | (89/100)\rImporting ISO File: |==================  | (90/100)\rImporting ISO File: |==================  | (91/100)\rImporting ISO File: |==================  | (92/100)\rImporting ISO File: |==================  | (93/100)\rImporting ISO File: |==================  | (94/100)\rImporting ISO File: |=================== | (95/100)\rImporting ISO File: |=================== | (96/100)\rImporting ISO File: |=================== | (97/100)\rImporting ISO File: |=================== | (98/100)\rImporting ISO File: |=================== | (99/100)\r                                                          \rSaving to /content/video.mp3: 0.500 secs Interleaving\n",
            "ISO File Writing: |                    | (01/100)\rISO File Writing: |                    | (02/100)\rISO File Writing: |                    | (03/100)\rISO File Writing: |                    | (04/100)\rISO File Writing: |=                   | (05/100)\rISO File Writing: |=                   | (06/100)\rISO File Writing: |=                   | (07/100)\rISO File Writing: |=                   | (08/100)\rISO File Writing: |=                   | (09/100)\rISO File Writing: |==                  | (10/100)\rISO File Writing: |==                  | (11/100)\rISO File Writing: |==                  | (12/100)\rISO File Writing: |==                  | (13/100)\rISO File Writing: |==                  | (14/100)\rISO File Writing: |===                 | (15/100)\rISO File Writing: |===                 | (16/100)\rISO File Writing: |===                 | (17/100)\rISO File Writing: |===                 | (18/100)\rISO File Writing: |===                 | (19/100)\rISO File Writing: |====                | (20/100)\rISO File Writing: |====                | (21/100)\rISO File Writing: |====                | (22/100)\rISO File Writing: |====                | (23/100)\rISO File Writing: |====                | (24/100)\rISO File Writing: |=====               | (25/100)\rISO File Writing: |=====               | (26/100)\rISO File Writing: |=====               | (27/100)\rISO File Writing: |=====               | (28/100)\rISO File Writing: |=====               | (29/100)\rISO File Writing: |======              | (30/100)\rISO File Writing: |======              | (31/100)\rISO File Writing: |======              | (32/100)\rISO File Writing: |======              | (33/100)\rISO File Writing: |======              | (34/100)\rISO File Writing: |=======             | (35/100)\rISO File Writing: |=======             | (36/100)\rISO File Writing: |=======             | (37/100)\rISO File Writing: |=======             | (38/100)\rISO File Writing: |=======             | (39/100)\rISO File Writing: |========            | (40/100)\rISO File Writing: |========            | (41/100)\rISO File Writing: |========            | (42/100)\rISO File Writing: |========            | (43/100)\rISO File Writing: |========            | (44/100)\rISO File Writing: |=========           | (45/100)\rISO File Writing: |=========           | (46/100)\rISO File Writing: |=========           | (47/100)\rISO File Writing: |=========           | (48/100)\rISO File Writing: |=========           | (49/100)\rISO File Writing: |==========          | (50/100)\rISO File Writing: |==========          | (51/100)\rISO File Writing: |==========          | (52/100)\rISO File Writing: |==========          | (53/100)\rISO File Writing: |==========          | (54/100)\rISO File Writing: |===========         | (55/100)\rISO File Writing: |===========         | (56/100)\rISO File Writing: |===========         | (57/100)\rISO File Writing: |===========         | (58/100)\rISO File Writing: |===========         | (59/100)\rISO File Writing: |============        | (60/100)\rISO File Writing: |============        | (61/100)\rISO File Writing: |============        | (62/100)\rISO File Writing: |============        | (63/100)\rISO File Writing: |============        | (64/100)\rISO File Writing: |=============       | (65/100)\rISO File Writing: |=============       | (66/100)\rISO File Writing: |=============       | (67/100)\rISO File Writing: |=============       | (68/100)\rISO File Writing: |=============       | (69/100)\rISO File Writing: |==============      | (70/100)\rISO File Writing: |==============      | (71/100)\rISO File Writing: |==============      | (72/100)\rISO File Writing: |==============      | (73/100)\rISO File Writing: |==============      | (74/100)\rISO File Writing: |===============     | (75/100)\rISO File Writing: |===============     | (76/100)\rISO File Writing: |===============     | (77/100)\rISO File Writing: |===============     | (78/100)\rISO File Writing: |===============     | (79/100)\rISO File Writing: |================    | (80/100)\rISO File Writing: |================    | (81/100)\rISO File Writing: |================    | (82/100)\rISO File Writing: |================    | (83/100)\rISO File Writing: |================    | (84/100)\rISO File Writing: |=================   | (85/100)\rISO File Writing: |=================   | (86/100)\rISO File Writing: |=================   | (87/100)\rISO File Writing: |=================   | (88/100)\rISO File Writing: |=================   | (89/100)\rISO File Writing: |==================  | (90/100)\rISO File Writing: |==================  | (91/100)\rISO File Writing: |==================  | (92/100)\rISO File Writing: |==================  | (93/100)\rISO File Writing: |==================  | (94/100)\rISO File Writing: |=================== | (95/100)\rISO File Writing: |=================== | (96/100)\rISO File Writing: |=================== | (97/100)\rISO File Writing: |=================== | (98/100)\rISO File Writing: |=================== | (99/100)\r                                                        \r"
          ]
        }
      ]
    },
    {
      "cell_type": "code",
      "source": [
        "path = \"/content/video.mp3\""
      ],
      "metadata": {
        "id": "vffNPgWpvJCV"
      },
      "execution_count": 7,
      "outputs": []
    },
    {
      "cell_type": "code",
      "source": [
        "from moviepy.video.VideoClip import ImageClip \n",
        "from moviepy.editor import *\n",
        "import os\n",
        "\n",
        "audio_clip = AudioFileClip(path)\n",
        "n = round(audio_clip.duration)\n",
        "counter = 0\n",
        "start = 0\n",
        "audio_clip.close()"
      ],
      "metadata": {
        "id": "tjuqhtcUvsXb"
      },
      "execution_count": 9,
      "outputs": []
    },
    {
      "cell_type": "markdown",
      "source": [
        "**Splitting audio file into chunks of 10 secs and saving into temp_audio_holder folder**"
      ],
      "metadata": {
        "id": "3ki4VLGcM7xl"
      }
    },
    {
      "cell_type": "code",
      "source": [
        "index = 10\n",
        "flag_to_exit = False\n",
        "while(True):\n",
        "  audio_clip = AudioFileClip(path)\n",
        "  audio_duration = audio_clip.duration\n",
        "  if index >= audio_duration:\n",
        "    flag_to_exit = True\n",
        "    index = audio_duration\n",
        "  temp = audio_clip.subclip(start, index)\n",
        "  temp_saving_location = f'/content/temp_audio_holder/temp_{counter}.mp3'\n",
        "  temp.write_audiofile(filename=temp_saving_location)\n",
        "  temp.close()\n",
        "  counter += 1\n",
        "  start = index\n",
        "  audio_clip.close()\n",
        "  if flag_to_exit:\n",
        "    break\n",
        "  index += 10\n",
        "  if index > audio_duration and not flag_to_exit:\n",
        "    index = audio_duration\n"
      ],
      "metadata": {
        "colab": {
          "base_uri": "https://localhost:8080/"
        },
        "id": "1iJjF5HIFolQ",
        "outputId": "af4326da-df65-4da5-bb2d-1319466aec99"
      },
      "execution_count": 11,
      "outputs": [
        {
          "output_type": "stream",
          "name": "stderr",
          "text": [
            "chunk:  13%|█▎        | 29/221 [00:47<05:16,  1.65s/it, now=None]"
          ]
        },
        {
          "output_type": "stream",
          "name": "stdout",
          "text": [
            "MoviePy - Writing audio in /content/temp_audio_holder/temp_0.mp3\n"
          ]
        },
        {
          "output_type": "stream",
          "name": "stderr",
          "text": [
            "\n",
            "chunk:   0%|          | 0/221 [00:00<?, ?it/s, now=None]\u001b[A\n",
            "chunk:  30%|██▉       | 66/221 [00:00<00:00, 653.38it/s, now=None]\u001b[A\n",
            "chunk:  60%|█████▉    | 132/221 [00:00<00:00, 575.56it/s, now=None]\u001b[A\n",
            "chunk:  86%|████████▋ | 191/221 [00:00<00:00, 566.94it/s, now=None]\u001b[A\n",
            "chunk:  13%|█▎        | 29/221 [00:48<05:20,  1.67s/it, now=None]"
          ]
        },
        {
          "output_type": "stream",
          "name": "stdout",
          "text": [
            "MoviePy - Done.\n",
            "MoviePy - Writing audio in /content/temp_audio_holder/temp_1.mp3\n"
          ]
        },
        {
          "output_type": "stream",
          "name": "stderr",
          "text": [
            "\n",
            "chunk:   0%|          | 0/221 [00:00<?, ?it/s, now=None]\u001b[A\n",
            "chunk:  20%|█▉        | 44/221 [00:00<00:00, 418.81it/s, now=None]\u001b[A\n",
            "chunk:  40%|████      | 89/221 [00:00<00:00, 436.76it/s, now=None]\u001b[A\n",
            "chunk:  64%|██████▍   | 142/221 [00:00<00:00, 473.59it/s, now=None]\u001b[A\n",
            "chunk:  89%|████████▊ | 196/221 [00:00<00:00, 495.46it/s, now=None]\u001b[A\n",
            "chunk:  13%|█▎        | 29/221 [00:49<05:24,  1.69s/it, now=None]"
          ]
        },
        {
          "output_type": "stream",
          "name": "stdout",
          "text": [
            "MoviePy - Done.\n",
            "MoviePy - Writing audio in /content/temp_audio_holder/temp_2.mp3\n"
          ]
        },
        {
          "output_type": "stream",
          "name": "stderr",
          "text": [
            "\n",
            "chunk:   0%|          | 0/221 [00:00<?, ?it/s, now=None]\u001b[A\n",
            "chunk:  18%|█▊        | 40/221 [00:00<00:00, 396.15it/s, now=None]\u001b[A\n",
            "chunk:  40%|████      | 89/221 [00:00<00:00, 440.39it/s, now=None]\u001b[A\n",
            "chunk:  62%|██████▏   | 138/221 [00:00<00:00, 454.70it/s, now=None]\u001b[A\n",
            "chunk:  83%|████████▎ | 184/221 [00:00<00:00, 453.07it/s, now=None]\u001b[A\n",
            "chunk:  13%|█▎        | 29/221 [00:49<05:28,  1.71s/it, now=None]"
          ]
        },
        {
          "output_type": "stream",
          "name": "stdout",
          "text": [
            "MoviePy - Done.\n",
            "MoviePy - Writing audio in /content/temp_audio_holder/temp_3.mp3\n"
          ]
        },
        {
          "output_type": "stream",
          "name": "stderr",
          "text": [
            "\n",
            "chunk:   0%|          | 0/221 [00:00<?, ?it/s, now=None]\u001b[A\n",
            "chunk:  16%|█▋        | 36/221 [00:00<00:00, 356.76it/s, now=None]\u001b[A\n",
            "chunk:  37%|███▋      | 81/221 [00:00<00:00, 397.43it/s, now=None]\u001b[A\n",
            "chunk:  59%|█████▉    | 130/221 [00:00<00:00, 438.47it/s, now=None]\u001b[A\n",
            "chunk:  81%|████████  | 179/221 [00:00<00:00, 451.90it/s, now=None]\u001b[A\n",
            "chunk:  13%|█▎        | 29/221 [00:50<05:32,  1.73s/it, now=None]"
          ]
        },
        {
          "output_type": "stream",
          "name": "stdout",
          "text": [
            "MoviePy - Done.\n",
            "MoviePy - Writing audio in /content/temp_audio_holder/temp_4.mp3\n"
          ]
        },
        {
          "output_type": "stream",
          "name": "stderr",
          "text": [
            "\n",
            "chunk:   0%|          | 0/221 [00:00<?, ?it/s, now=None]\u001b[A\n",
            "chunk:  16%|█▋        | 36/221 [00:00<00:00, 342.97it/s, now=None]\u001b[A\n",
            "chunk:  37%|███▋      | 81/221 [00:00<00:00, 393.75it/s, now=None]\u001b[A\n",
            "chunk:  59%|█████▉    | 130/221 [00:00<00:00, 430.41it/s, now=None]\u001b[A\n",
            "chunk:  93%|█████████▎| 205/221 [00:00<00:00, 541.73it/s, now=None]\u001b[A\n",
            "chunk:  13%|█▎        | 29/221 [00:50<05:36,  1.75s/it, now=None]"
          ]
        },
        {
          "output_type": "stream",
          "name": "stdout",
          "text": [
            "MoviePy - Done.\n",
            "MoviePy - Writing audio in /content/temp_audio_holder/temp_5.mp3\n"
          ]
        },
        {
          "output_type": "stream",
          "name": "stderr",
          "text": [
            "\n",
            "chunk:   0%|          | 0/125 [00:00<?, ?it/s, now=None]\u001b[A\n",
            "chunk:  54%|█████▍    | 68/125 [00:00<00:00, 663.29it/s, now=None]\u001b[A\n",
            "chunk:  13%|█▎        | 29/221 [00:51<05:38,  1.76s/it, now=None]"
          ]
        },
        {
          "output_type": "stream",
          "name": "stdout",
          "text": [
            "MoviePy - Done.\n"
          ]
        }
      ]
    },
    {
      "cell_type": "markdown",
      "source": [],
      "metadata": {
        "id": "ppAUCd_dRvaj"
      }
    },
    {
      "cell_type": "code",
      "source": [
        "base_path_to_saved_files = \"/content/temp_audio_holder/\"\n",
        "list_of_files = os.listdir(base_path_to_saved_files)\n",
        "start = 0\n",
        "end = 0\n",
        "\n",
        "id_counter = 0\n",
        "final_list_of_text = []"
      ],
      "metadata": {
        "id": "DHFQBSiCH7zI"
      },
      "execution_count": 13,
      "outputs": []
    },
    {
      "cell_type": "code",
      "source": [
        "\"\"\"!MP4Box -add /content/temp_audio_holder/temp_0.mp3 /content/temp_audio_holder2/temp_0.mp3\n",
        "!MP4Box -add /content/temp_audio_holder/temp_1.mp3 /content/temp_audio_holder2/temp_1.mp3\n",
        "!MP4Box -add /content/temp_audio_holder/temp_2.mp3 /content/temp_audio_holder2/temp_2.mp3\n",
        "!MP4Box -add /content/temp_audio_holder/temp_3.mp3 /content/temp_audio_holder2/temp_3.mp3\n",
        "!MP4Box -add /content/temp_audio_holder/temp_4.mp3 /content/temp_audio_holder2/temp_4.mp3\n",
        "!MP4Box -add /content/temp_audio_holder/temp_5.mp3 /content/temp_audio_holder2/temp_5.mp3\"\"\""
      ],
      "metadata": {
        "colab": {
          "base_uri": "https://localhost:8080/"
        },
        "id": "xD_qwaD7R7Hb",
        "outputId": "55e7cfb4-6168-4c67-d884-a9f61697efae"
      },
      "execution_count": 30,
      "outputs": [
        {
          "output_type": "stream",
          "name": "stdout",
          "text": [
            "MP3 import - sample rate 44100 - MPEG-1 audio - 2 channels\n",
            "Saving to /content/temp_audio_holder2/temp_0.mp3: 0.500 secs Interleaving\n",
            "MP3 import - sample rate 44100 - MPEG-1 audio - 2 channels\n",
            "Saving to /content/temp_audio_holder2/temp_1.mp3: 0.500 secs Interleaving\n",
            "MP3 import - sample rate 44100 - MPEG-1 audio - 2 channels\n",
            "Saving to /content/temp_audio_holder2/temp_2.mp3: 0.500 secs Interleaving\n",
            "MP3 import - sample rate 44100 - MPEG-1 audio - 2 channels\n",
            "Saving to /content/temp_audio_holder2/temp_3.mp3: 0.500 secs Interleaving\n",
            "MP3 import - sample rate 44100 - MPEG-1 audio - 2 channels\n",
            "Saving to /content/temp_audio_holder2/temp_4.mp3: 0.500 secs Interleaving\n",
            "MP3 import - sample rate 44100 - MPEG-1 audio - 2 channels\n",
            "Saving to /content/temp_audio_holder2/temp_5.mp3: 0.500 secs Interleaving\n"
          ]
        }
      ]
    },
    {
      "cell_type": "markdown",
      "source": [
        "Loading whisper for transcription of each audio chunk"
      ],
      "metadata": {
        "id": "MSji1VXGSbcq"
      }
    },
    {
      "cell_type": "code",
      "source": [
        "for index in range(len(list_of_files)):\n",
        "  path_to_saved_file = os.path.join(base_path_to_saved_files, f'temp_{index}.mp3')\n",
        "  print(path_to_saved_file)\n",
        "  audio_clip = AudioFileClip(path_to_saved_file)\n",
        "\n",
        "  duration = audio_clip.duration\n",
        "  audio_clip.close()\n",
        "\n",
        "  model = whisper.load_model(\"medium\")\n",
        "  out = model.transcribe(path_to_saved_file)\n",
        "  print(out)\n",
        "  list_of_text = out['segments']\n",
        "  for line in list_of_text:\n",
        "    line['start'] += start\n",
        "    line['end'] +=start\n",
        "\n",
        "    line['id'] = id_counter\n",
        "    id_counter += 1\n",
        "\n",
        "    end = line ['end']\n",
        "    final_list_of_text.append(line)\n",
        "\n",
        "  start += duration"
      ],
      "metadata": {
        "colab": {
          "base_uri": "https://localhost:8080/"
        },
        "id": "syfyI1E_JBEe",
        "outputId": "05ab8c7c-eafc-4afd-e8ba-87906500cf79"
      },
      "execution_count": 14,
      "outputs": [
        {
          "output_type": "stream",
          "name": "stdout",
          "text": [
            "/content/temp_audio_holder/temp_0.mp3\n"
          ]
        },
        {
          "output_type": "stream",
          "name": "stderr",
          "text": [
            "\n",
            "  0%|                                              | 0.00/1.42G [00:00<?, ?iB/s]\u001b[A\n",
            "  1%|▎                                     | 13.5M/1.42G [00:00<00:11, 133MiB/s]\u001b[A\n",
            "  2%|▊                                     | 32.1M/1.42G [00:00<00:08, 169MiB/s]\u001b[A\n",
            "  3%|█▎                                    | 49.8M/1.42G [00:00<00:08, 176MiB/s]\u001b[A\n",
            "  5%|█▋                                    | 66.7M/1.42G [00:00<00:10, 134MiB/s]\u001b[A\n",
            "  6%|██▏                                   | 82.6M/1.42G [00:00<00:10, 144MiB/s]\u001b[A\n",
            "  7%|██▋                                    | 101M/1.42G [00:00<00:08, 159MiB/s]\u001b[A\n",
            "  8%|███▎                                   | 122M/1.42G [00:00<00:07, 177MiB/s]\u001b[A\n",
            " 10%|███▊                                   | 144M/1.42G [00:00<00:07, 193MiB/s]\u001b[A\n",
            " 11%|████▍                                  | 165M/1.42G [00:00<00:06, 201MiB/s]\u001b[A\n",
            " 13%|████▉                                  | 185M/1.42G [00:01<00:06, 197MiB/s]\u001b[A\n",
            " 14%|█████▌                                 | 208M/1.42G [00:01<00:06, 211MiB/s]\u001b[A\n",
            " 16%|██████                                 | 229M/1.42G [00:01<00:07, 172MiB/s]\u001b[A\n",
            " 17%|██████▋                                | 252M/1.42G [00:01<00:06, 191MiB/s]\u001b[A\n",
            " 19%|███████▎                               | 273M/1.42G [00:01<00:06, 198MiB/s]\u001b[A\n",
            " 20%|███████▉                               | 298M/1.42G [00:01<00:05, 217MiB/s]\u001b[A\n",
            " 22%|████████▋                              | 323M/1.42G [00:01<00:05, 227MiB/s]\u001b[A\n",
            " 24%|█████████▏                             | 345M/1.42G [00:01<00:05, 230MiB/s]\u001b[A\n",
            " 25%|█████████▉                             | 370M/1.42G [00:01<00:04, 239MiB/s]\u001b[A\n",
            " 27%|██████████▌                            | 397M/1.42G [00:02<00:04, 250MiB/s]\u001b[A\n",
            " 29%|███████████▎                           | 421M/1.42G [00:02<00:04, 243MiB/s]\u001b[A\n",
            " 30%|███████████▉                           | 444M/1.42G [00:02<00:04, 244MiB/s]\u001b[A\n",
            " 32%|████████████▌                          | 468M/1.42G [00:02<00:04, 218MiB/s]\u001b[A\n",
            " 34%|█████████████▏                         | 494M/1.42G [00:02<00:04, 229MiB/s]\u001b[A\n",
            " 35%|█████████████▊                         | 516M/1.42G [00:02<00:04, 205MiB/s]\u001b[A\n",
            " 37%|██████████████▍                        | 538M/1.42G [00:02<00:04, 211MiB/s]\u001b[A\n",
            " 39%|███████████████                        | 561M/1.42G [00:02<00:04, 219MiB/s]\u001b[A\n",
            " 40%|███████████████▊                       | 590M/1.42G [00:02<00:03, 242MiB/s]\u001b[A\n",
            " 42%|████████████████▍                      | 616M/1.42G [00:03<00:03, 252MiB/s]\u001b[A\n",
            " 44%|█████████████████▏                     | 641M/1.42G [00:03<00:03, 248MiB/s]\u001b[A\n",
            " 46%|█████████████████▊                     | 666M/1.42G [00:03<00:03, 252MiB/s]\u001b[A\n",
            " 47%|██████████████████▍                    | 691M/1.42G [00:03<00:03, 257MiB/s]\u001b[A\n",
            " 49%|███████████████████▏                   | 719M/1.42G [00:03<00:02, 268MiB/s]\u001b[A\n",
            " 51%|███████████████████▉                   | 746M/1.42G [00:03<00:02, 270MiB/s]\u001b[A\n",
            " 53%|████████████████████▋                  | 771M/1.42G [00:03<00:02, 271MiB/s]\u001b[A\n",
            " 55%|█████████████████████▎                 | 797M/1.42G [00:03<00:02, 268MiB/s]\u001b[A\n",
            " 56%|██████████████████████                 | 823M/1.42G [00:03<00:02, 265MiB/s]\u001b[A\n",
            " 58%|██████████████████████▋                | 848M/1.42G [00:04<00:02, 254MiB/s]\u001b[A\n",
            " 60%|███████████████████████▎               | 873M/1.42G [00:04<00:02, 235MiB/s]\u001b[A\n",
            " 61%|███████████████████████▉               | 895M/1.42G [00:04<00:02, 230MiB/s]\u001b[A\n",
            " 63%|████████████████████████▌              | 920M/1.42G [00:04<00:02, 237MiB/s]\u001b[A\n",
            " 65%|█████████████████████████▏             | 943M/1.42G [00:04<00:02, 235MiB/s]\u001b[A\n",
            " 66%|█████████████████████████▊             | 965M/1.42G [00:04<00:02, 225MiB/s]\u001b[A\n",
            " 68%|██████████████████████████▍            | 988M/1.42G [00:04<00:02, 229MiB/s]\u001b[A\n",
            " 69%|██████████████████████████▍           | 0.99G/1.42G [00:04<00:01, 235MiB/s]\u001b[A\n",
            " 71%|██████████████████████████▉           | 1.01G/1.42G [00:04<00:01, 228MiB/s]\u001b[A\n",
            " 73%|███████████████████████████▌          | 1.03G/1.42G [00:05<00:01, 220MiB/s]\u001b[A\n",
            " 74%|████████████████████████████          | 1.05G/1.42G [00:05<00:01, 219MiB/s]\u001b[A\n",
            " 76%|████████████████████████████▋         | 1.07G/1.42G [00:05<00:01, 224MiB/s]\u001b[A\n",
            " 77%|█████████████████████████████▎        | 1.10G/1.42G [00:05<00:01, 189MiB/s]\u001b[A\n",
            " 78%|█████████████████████████████▊        | 1.11G/1.42G [00:05<00:01, 186MiB/s]\u001b[A\n",
            " 80%|██████████████████████████████▎       | 1.14G/1.42G [00:05<00:01, 203MiB/s]\u001b[A\n",
            " 81%|██████████████████████████████▉       | 1.16G/1.42G [00:05<00:01, 213MiB/s]\u001b[A\n",
            " 83%|███████████████████████████████▌      | 1.18G/1.42G [00:05<00:01, 206MiB/s]\u001b[A\n",
            " 85%|████████████████████████████████      | 1.20G/1.42G [00:05<00:01, 215MiB/s]\u001b[A\n",
            " 86%|████████████████████████████████▊     | 1.23G/1.42G [00:05<00:00, 228MiB/s]\u001b[A\n",
            " 88%|█████████████████████████████████▎    | 1.25G/1.42G [00:06<00:00, 226MiB/s]\u001b[A\n",
            " 89%|█████████████████████████████████▉    | 1.27G/1.42G [00:06<00:00, 221MiB/s]\u001b[A\n",
            " 91%|██████████████████████████████████▍   | 1.29G/1.42G [00:06<00:00, 195MiB/s]\u001b[A\n",
            " 92%|███████████████████████████████████   | 1.31G/1.42G [00:06<00:00, 202MiB/s]\u001b[A\n",
            " 94%|███████████████████████████████████▌  | 1.33G/1.42G [00:06<00:00, 206MiB/s]\u001b[A\n",
            " 95%|████████████████████████████████████▏ | 1.36G/1.42G [00:06<00:00, 222MiB/s]\u001b[A\n",
            " 97%|████████████████████████████████████▉ | 1.38G/1.42G [00:06<00:00, 236MiB/s]\u001b[A\n",
            "100%|██████████████████████████████████████| 1.42G/1.42G [00:06<00:00, 220MiB/s]\n"
          ]
        },
        {
          "output_type": "stream",
          "name": "stdout",
          "text": [
            "{'text': \" I don't know\", 'segments': [{'id': 0, 'seek': 0, 'start': 0.0, 'end': 10.0, 'text': \" I don't know\", 'tokens': [286, 500, 380, 458], 'temperature': 0.0, 'avg_logprob': -0.5649094581604004, 'compression_ratio': 0.6, 'no_speech_prob': 0.22359110414981842}], 'language': 'en'}\n",
            "/content/temp_audio_holder/temp_1.mp3\n",
            "{'text': \" I don't know who you are. I don't know what you want. If you are looking for ransom, I can tell you I don't have money. I don't know who you are. I don't know what you want. If you are looking for ransom, I can tell you I don't have money.\", 'segments': [{'id': 0, 'seek': 0, 'start': 0.0, 'end': 3.64, 'text': \" I don't know who you are.\", 'tokens': [286, 500, 380, 458, 567, 291, 366, 13], 'temperature': 0.0, 'avg_logprob': -0.26888313293457033, 'compression_ratio': 1.3522727272727273, 'no_speech_prob': 0.7576158046722412}, {'id': 0, 'seek': 0, 'start': 3.64, 'end': 6.0, 'text': \" I don't know what you want.\", 'tokens': [286, 500, 380, 458, 437, 291, 528, 13], 'temperature': 0.0, 'avg_logprob': -0.26888313293457033, 'compression_ratio': 1.3522727272727273, 'no_speech_prob': 0.7576158046722412}, {'id': 0, 'seek': 0, 'start': 6.0, 'end': 9.28, 'text': \" If you are looking for ransom, I can tell you I don't have money.\", 'tokens': [759, 291, 366, 1237, 337, 38279, 11, 286, 393, 980, 291, 286, 500, 380, 362, 1460, 13], 'temperature': 0.0, 'avg_logprob': -0.26888313293457033, 'compression_ratio': 1.3522727272727273, 'no_speech_prob': 0.7576158046722412}], 'language': 'en'}\n",
            "/content/temp_audio_holder/temp_2.mp3\n",
            "{'text': \" But what I do have are a very particular set of skills. Skills I've acquired over a very long career. Skills that make me a nightmare for people like you. But what I do have are a very particular set of skills. Skills I've acquired over a very long career. Skills that make me a nightmare for people like you.\", 'segments': [{'id': 0, 'seek': 0, 'start': 0.0, 'end': 4.64, 'text': ' But what I do have are a very particular set of skills.', 'tokens': [583, 437, 286, 360, 362, 366, 257, 588, 1729, 992, 295, 3942, 13], 'temperature': 0.0, 'avg_logprob': -0.23634070884890673, 'compression_ratio': 1.2941176470588236, 'no_speech_prob': 0.1841108500957489}, {'id': 0, 'seek': 0, 'start': 4.64, 'end': 7.6000000000000005, 'text': \" Skills I've acquired over a very long career.\", 'tokens': [27856, 286, 600, 17554, 670, 257, 588, 938, 3988, 13], 'temperature': 0.0, 'avg_logprob': -0.23634070884890673, 'compression_ratio': 1.2941176470588236, 'no_speech_prob': 0.1841108500957489}, {'id': 0, 'seek': 0, 'start': 7.6000000000000005, 'end': 10.200000000000001, 'text': ' Skills that make me a nightmare for people like you.', 'tokens': [27856, 300, 652, 385, 257, 18724, 337, 561, 411, 291, 13], 'temperature': 0.0, 'avg_logprob': -0.23634070884890673, 'compression_ratio': 1.2941176470588236, 'no_speech_prob': 0.1841108500957489}], 'language': 'en'}\n",
            "/content/temp_audio_holder/temp_3.mp3\n",
            "{'text': \" If you let my daughter go now, that'll be the end of it. I will not look for you. I will not pursue you. But if you don't... If you let my daughter go now, that'll be the end of it. I will not look for you. I will not pursue you. But if you don't...\", 'segments': [{'id': 0, 'seek': 0, 'start': 0.0, 'end': 5.5, 'text': \" If you let my daughter go now, that'll be the end of it.\", 'tokens': [759, 291, 718, 452, 4653, 352, 586, 11, 300, 603, 312, 264, 917, 295, 309, 13], 'temperature': 0.0, 'avg_logprob': -0.32931739633733575, 'compression_ratio': 1.2653061224489797, 'no_speech_prob': 0.729357898235321}, {'id': 0, 'seek': 0, 'start': 5.5, 'end': 7.3, 'text': ' I will not look for you.', 'tokens': [286, 486, 406, 574, 337, 291, 13], 'temperature': 0.0, 'avg_logprob': -0.32931739633733575, 'compression_ratio': 1.2653061224489797, 'no_speech_prob': 0.729357898235321}, {'id': 0, 'seek': 0, 'start': 7.3, 'end': 9.620000000000001, 'text': ' I will not pursue you.', 'tokens': [286, 486, 406, 12392, 291, 13], 'temperature': 0.0, 'avg_logprob': -0.32931739633733575, 'compression_ratio': 1.2653061224489797, 'no_speech_prob': 0.729357898235321}, {'id': 0, 'seek': 0, 'start': 9.620000000000001, 'end': 10.02, 'text': \" But if you don't...\", 'tokens': [583, 498, 291, 500, 380, 485], 'temperature': 0.0, 'avg_logprob': -0.32931739633733575, 'compression_ratio': 1.2653061224489797, 'no_speech_prob': 0.729357898235321}], 'language': 'en'}\n",
            "/content/temp_audio_holder/temp_4.mp3\n",
            "{'text': \" If you don't, I will look for you. I will find you. And I will kill you. If you don't, I will look for you. I will find you. And I will kill you.\", 'segments': [{'id': 0, 'seek': 0, 'start': 0.0, 'end': 3.0, 'text': \" If you don't, I will look for you.\", 'tokens': [759, 291, 500, 380, 11, 286, 486, 574, 337, 291, 13], 'temperature': 0.0, 'avg_logprob': -0.34238131292935076, 'compression_ratio': 1.2857142857142858, 'no_speech_prob': 0.648440957069397}, {'id': 0, 'seek': 0, 'start': 4.0, 'end': 5.0, 'text': ' I will find you.', 'tokens': [286, 486, 915, 291, 13], 'temperature': 0.0, 'avg_logprob': -0.34238131292935076, 'compression_ratio': 1.2857142857142858, 'no_speech_prob': 0.648440957069397}, {'id': 0, 'seek': 0, 'start': 6.0, 'end': 8.0, 'text': ' And I will kill you.', 'tokens': [400, 286, 486, 1961, 291, 13], 'temperature': 0.0, 'avg_logprob': -0.34238131292935076, 'compression_ratio': 1.2857142857142858, 'no_speech_prob': 0.648440957069397}], 'language': 'en'}\n",
            "/content/temp_audio_holder/temp_5.mp3\n",
            "{'text': ' Good luck.', 'segments': [{'id': 0, 'seek': 0, 'start': 0.0, 'end': 3.04, 'text': ' Good luck.', 'tokens': [2205, 3668, 13], 'temperature': 0.0, 'avg_logprob': -0.7238897482554117, 'compression_ratio': 0.5555555555555556, 'no_speech_prob': 0.1005479246377945}], 'language': 'en'}\n"
          ]
        }
      ]
    },
    {
      "cell_type": "code",
      "source": [
        "for index in range(len(final_list_of_text)):\n",
        "  data = final_list_of_text[index]\n",
        "  if index+1 >= len(final_list_of_text):\n",
        "    break\n",
        "  fur_data = final_list_of_text[index+1]\n",
        "  data['end'] = fur_data['start']\n",
        "  data['duration'] = data['end'] - data['start']"
      ],
      "metadata": {
        "id": "MAkMUYaTN8uN"
      },
      "execution_count": 18,
      "outputs": []
    },
    {
      "cell_type": "code",
      "source": [
        "def save_subtitles(list_of_subtitles):\n",
        "  path_to_save = \"subtitles.txt\"\n",
        "  with open(path_to_save, mode= 'a+') as f: \n",
        "    for i in list_of_subtitles:\n",
        "      f.write(\"{}\\n\".format(i))    "
      ],
      "metadata": {
        "id": "JjhQx09qPzeh"
      },
      "execution_count": 19,
      "outputs": []
    },
    {
      "cell_type": "code",
      "source": [
        "save_subtitles(list_of_subtitles = final_list_of_text)\n",
        "print(\"stop\")"
      ],
      "metadata": {
        "colab": {
          "base_uri": "https://localhost:8080/"
        },
        "id": "2DsaTYESQ2xT",
        "outputId": "26406497-85fb-449a-df70-53f5a77c642e"
      },
      "execution_count": 20,
      "outputs": [
        {
          "output_type": "stream",
          "name": "stdout",
          "text": [
            "stop\n"
          ]
        }
      ]
    }
  ],
  "metadata": {
    "colab": {
      "provenance": []
    },
    "kernelspec": {
      "display_name": "Python 3",
      "name": "python3"
    },
    "language_info": {
      "name": "python"
    },
    "accelerator": "GPU",
    "gpuClass": "standard"
  },
  "nbformat": 4,
  "nbformat_minor": 0
}